{
 "cells": [
  {
   "cell_type": "code",
   "execution_count": 1,
   "id": "f2fbec29",
   "metadata": {},
   "outputs": [],
   "source": [
    "import pandas as pd\n",
    "import numpy as np\n",
    "import sklearn\n",
    "from sklearn import linear_model\n",
    "from sklearn.utils import shuffle\n",
    "from sklearn.feature_selection import mutual_info_regression\n",
    "import matplotlib.pyplot as plt"
   ]
  },
  {
   "cell_type": "code",
   "execution_count": 2,
   "id": "d4ec1b86",
   "metadata": {},
   "outputs": [],
   "source": [
    "data = pd.read_csv(\"student-mat.csv\", sep=\";\")\n",
    "data.head()\n",
    "predict = \"G3\"\n",
    "X = data.drop(predict, axis=1)\n",
    "y = data[predict]"
   ]
  },
  {
   "cell_type": "code",
   "execution_count": 3,
   "id": "52b3c3c3",
   "metadata": {},
   "outputs": [],
   "source": [
    "plt.style.use(\"seaborn-whitegrid\")\n",
    "plt.rc(\"figure\", autolayout=True)\n",
    "plt.rc(\n",
    "    \"axes\",\n",
    "    labelweight=\"bold\",\n",
    "    labelsize=\"large\",\n",
    "    titleweight=\"bold\",\n",
    "    titlesize=20,\n",
    "    titlepad=30,\n",
    ")"
   ]
  },
  {
   "cell_type": "code",
   "execution_count": 4,
   "id": "d8647c4e",
   "metadata": {},
   "outputs": [],
   "source": [
    "# We will use Mutual Information to pick categories that predict the last grade the best.\n",
    "def make_mi_scores(X, y):\n",
    "    X = X.copy()\n",
    "    for colname in X.select_dtypes([\"object\", \"category\"]):\n",
    "        X[colname], _ = X[colname].factorize()\n",
    "    # All discrete features should now have integer dtypes\n",
    "    discrete_features = [pd.api.types.is_integer_dtype(t) for t in X.dtypes]\n",
    "    mi_scores = mutual_info_regression(X, y, discrete_features=discrete_features, random_state=0)\n",
    "    mi_scores = pd.Series(mi_scores, name=\"MI Scores\", index=X.columns)\n",
    "    mi_scores = mi_scores.sort_values(ascending=False)\n",
    "    return mi_scores\n",
    "\n",
    "\n",
    "def plot_mi_scores(scores):\n",
    "    scores = scores.sort_values(ascending=True)\n",
    "    width = np.arange(len(scores))\n",
    "    ticks = list(scores.index)\n",
    "    plt.barh(width, scores)\n",
    "    plt.yticks(width, ticks)\n",
    "    plt.title(\"Mutual Information Scores\")"
   ]
  },
  {
   "cell_type": "code",
   "execution_count": 5,
   "id": "db2d1339",
   "metadata": {},
   "outputs": [
    {
     "name": "stdout",
     "output_type": "stream",
     "text": [
      "school        object\n",
      "sex           object\n",
      "age            int64\n",
      "address       object\n",
      "famsize       object\n",
      "Pstatus       object\n",
      "Medu           int64\n",
      "Fedu           int64\n",
      "Mjob          object\n",
      "Fjob          object\n",
      "reason        object\n",
      "guardian      object\n",
      "traveltime     int64\n",
      "studytime      int64\n",
      "failures       int64\n",
      "schoolsup     object\n",
      "famsup        object\n",
      "paid          object\n",
      "activities    object\n",
      "nursery       object\n",
      "higher        object\n",
      "internet      object\n",
      "romantic      object\n",
      "famrel         int64\n",
      "freetime       int64\n",
      "goout          int64\n",
      "Dalc           int64\n",
      "Walc           int64\n",
      "health         int64\n",
      "absences       int64\n",
      "G1             int64\n",
      "G2             int64\n",
      "G3             int64\n",
      "dtype: object\n"
     ]
    },
    {
     "data": {
      "image/png": "[encoded data removed]",
      "text/plain": [
       "<Figure size 432x288 with 1 Axes>"
      ]
     },
     "metadata": {},
     "output_type": "display_data"
    }
   ],
   "source": [
    "feature_eval = make_mi_scores(X, y)\n",
    "plot_mi_scores(feature_eval)\n",
    "dataTypes = data.dtypes\n",
    "print(dataTypes)"
   ]
  },
  {
   "cell_type": "code",
   "execution_count": 6,
   "id": "fc221421",
   "metadata": {},
   "outputs": [
    {
     "data": {
      "text/plain": [
       "0       at_home\n",
       "1       at_home\n",
       "2       at_home\n",
       "3        health\n",
       "4         other\n",
       "         ...   \n",
       "390    services\n",
       "391    services\n",
       "392       other\n",
       "393    services\n",
       "394       other\n",
       "Name: Mjob, Length: 395, dtype: object"
      ]
     },
     "execution_count": 6,
     "metadata": {},
     "output_type": "execute_result"
    }
   ],
   "source": [
    "X[\"Mjob\"]"
   ]
  },
  {
   "cell_type": "code",
   "execution_count": 7,
   "id": "4d2697c8",
   "metadata": {},
   "outputs": [
    {
     "name": "stdout",
     "output_type": "stream",
     "text": [
      "0      0.0\n",
      "1      0.0\n",
      "2      0.0\n",
      "3      1.0\n",
      "4      0.0\n",
      "      ... \n",
      "390    0.0\n",
      "391    0.0\n",
      "392    0.0\n",
      "393    0.0\n",
      "394    0.0\n",
      "Name: romantic_encoded, Length: 395, dtype: float64\n"
     ]
    }
   ],
   "source": [
    "from sklearn.preprocessing import OrdinalEncoder\n",
    "\n",
    "ord_enc = OrdinalEncoder()\n",
    "X[[\"romantic_encoded\", \"schoolsup_encoded\"]] = ord_enc.fit_transform(X[[\"romantic\", \"schoolsup\"]])\n",
    "print(X[\"romantic_encoded\"])\n",
    "\n",
    "from sklearn.preprocessing import OneHotEncoder\n",
    "OH_encoder = OneHotEncoder(handle_unknown='ignore', sparse=False)\n",
    "X[\"Mjob\"] = pd.DataFrame(OH_encoder.fit_transform(X[[\"Mjob\"]]))\n",
    "X[\"Fjob\"] = pd.DataFrame(OH_encoder.fit_transform(X[[\"Fjob\"]]))"
   ]
  },
  {
   "cell_type": "code",
   "execution_count": 8,
   "id": "cd41d248",
   "metadata": {},
   "outputs": [],
   "source": [
    "features_tobe_used = X[[\"G1\", \"G2\", \"studytime\", \"failures\", \"absences\", \"romantic_encoded\",\"schoolsup_encoded\", \"Mjob\", \"Fjob\"]]"
   ]
  },
  {
   "cell_type": "code",
   "execution_count": 9,
   "id": "017a6d5d",
   "metadata": {},
   "outputs": [],
   "source": [
    "X_train, X_test, y_train, y_test = sklearn.model_selection.train_test_split(features_tobe_used, y, test_size=0.1, random_state = 2)"
   ]
  },
  {
   "cell_type": "code",
   "execution_count": 10,
   "id": "cc3fca36",
   "metadata": {},
   "outputs": [
    {
     "data": {
      "text/plain": [
       "LinearRegression()"
      ]
     },
     "execution_count": 10,
     "metadata": {},
     "output_type": "execute_result"
    }
   ],
   "source": [
    "linear = linear_model.LinearRegression()\n",
    "linear.fit(X_train, y_train)"
   ]
  },
  {
   "cell_type": "code",
   "execution_count": 11,
   "id": "1ae679f2",
   "metadata": {},
   "outputs": [
    {
     "data": {
      "text/plain": [
       "0.8547075303295879"
      ]
     },
     "execution_count": 11,
     "metadata": {},
     "output_type": "execute_result"
    }
   ],
   "source": [
    "accuracy = linear.score(X_test, y_test)\n",
    "accuracy"
   ]
  },
  {
   "cell_type": "code",
   "execution_count": 12,
   "id": "c91dc089",
   "metadata": {},
   "outputs": [
    {
     "name": "stdout",
     "output_type": "stream",
     "text": [
      "co:  [ 0.20042149  0.94736255 -0.19580678 -0.23732175  0.0368339  -0.32617803\n",
      "  0.43604818 -0.11477342 -0.16085281]\n",
      "Intercept: \n",
      " -1.605922445262344\n"
     ]
    }
   ],
   "source": [
    "print(\"co: \", linear.coef_ )\n",
    "print(\"Intercept: \\n\", linear.intercept_)"
   ]
  },
  {
   "cell_type": "code",
   "execution_count": 15,
   "id": "26843640",
   "metadata": {},
   "outputs": [],
   "source": [
    "predictions = linear.predict(X_test)"
   ]
  },
  {
   "cell_type": "code",
   "execution_count": 23,
   "id": "5ec55a65",
   "metadata": {},
   "outputs": [
    {
     "name": "stdout",
     "output_type": "stream",
     "text": [
      "94     14\n",
      "32     16\n",
      "222    17\n",
      "329    14\n",
      "369    11\n",
      "25      8\n",
      "67      6\n",
      "297     8\n",
      "157    10\n",
      "223    13\n",
      "176    11\n",
      "77     11\n",
      "180     8\n",
      "175     9\n",
      "142    11\n",
      "181    12\n",
      "268    10\n",
      "294    14\n",
      "243    12\n",
      "2      10\n",
      "380    14\n",
      "261     8\n",
      "84     10\n",
      "393    10\n",
      "70     15\n",
      "200    16\n",
      "20     15\n",
      "173     0\n",
      "377    10\n",
      "342    15\n",
      "55     10\n",
      "349    13\n",
      "24      8\n",
      "236    13\n",
      "7       6\n",
      "313    11\n",
      "269     0\n",
      "53     11\n",
      "28     11\n",
      "322    11\n",
      "Name: G3, dtype: int64\n",
      "[12.35220337 16.08039924 16.87672458 13.69679132 12.21887641  7.9680938\n",
      "  6.22872248  7.62774026  6.97522932 12.723235   12.99732429  9.91029682\n",
      "  7.75349681  8.68027743 10.10510646 12.47072477  8.57510281 13.22294241\n",
      " 12.17210071  6.96196335 14.41919762  7.2584041   9.35355069 11.77125774\n",
      " 14.42676803 16.4406764  13.87101904  5.08445705  8.27943446 15.49864094\n",
      "  8.10059203 12.84963757  8.84685102 12.94523555  4.59885726 10.3284149\n",
      " -1.12118513  9.71131636 11.2114722  10.54278334]\n"
     ]
    }
   ],
   "source": [
    "print(y_test)\n",
    "print(predictions)"
   ]
  },
  {
   "cell_type": "code",
   "execution_count": null,
   "id": "313a07cc",
   "metadata": {},
   "outputs": [],
   "source": []
  }
 ],
 "metadata": {
  "kernelspec": {
   "display_name": "Python 3",
   "language": "python",
   "name": "python3"
  },
  "language_info": {
   "codemirror_mode": {
    "name": "ipython",
    "version": 3
   },
   "file_extension": ".py",
   "mimetype": "text/x-python",
   "name": "python",
   "nbconvert_exporter": "python",
   "pygments_lexer": "ipython3",
   "version": "3.8.8"
  }
 },
 "nbformat": 4,
 "nbformat_minor": 5
}
